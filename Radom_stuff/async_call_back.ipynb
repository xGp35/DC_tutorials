{
 "cells": [
  {
   "cell_type": "code",
   "execution_count": 1,
   "metadata": {},
   "outputs": [
    {
     "name": "stdout",
     "output_type": "stream",
     "text": [
      "⏳ Fetching data...\n",
      "✅ Processing: 📦 Data received!\n"
     ]
    }
   ],
   "source": [
    "import time\n",
    "\n",
    "def fetch_data(callback):\n",
    "    print(\"⏳ Fetching data...\")\n",
    "    time.sleep(2)  # Simulating a delay\n",
    "    callback(\"📦 Data received!\")\n",
    "\n",
    "def process_data(data):\n",
    "    print(f\"✅ Processing: {data}\")\n",
    "\n",
    "fetch_data(process_data)\n"
   ]
  },
  {
   "cell_type": "code",
   "execution_count": null,
   "metadata": {},
   "outputs": [],
   "source": [
    "import asyncio\n",
    "\n",
    "async def fetch_data():\n",
    "    print(\"⏳ Fetching data...\")\n",
    "    await asyncio.sleep(2)  # Simulating a delay\n",
    "    return \"📦 Data received!\"\n",
    "\n",
    "async def main():\n",
    "    data = await fetch_data()\n",
    "    print(f\"✅ Processing: {data}\")\n",
    "\n",
    "asyncio.run(main())\n"
   ]
  }
 ],
 "metadata": {
  "kernelspec": {
   "display_name": "base",
   "language": "python",
   "name": "python3"
  },
  "language_info": {
   "codemirror_mode": {
    "name": "ipython",
    "version": 3
   },
   "file_extension": ".py",
   "mimetype": "text/x-python",
   "name": "python",
   "nbconvert_exporter": "python",
   "pygments_lexer": "ipython3",
   "version": "3.12.8"
  }
 },
 "nbformat": 4,
 "nbformat_minor": 2
}
