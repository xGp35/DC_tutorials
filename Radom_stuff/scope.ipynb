{
 "cells": [
  {
   "cell_type": "code",
   "execution_count": 3,
   "id": "8186f3f3",
   "metadata": {},
   "outputs": [
    {
     "name": "stdout",
     "output_type": "stream",
     "text": [
      "ThIs Is a mESsy sTrInG\n"
     ]
    }
   ],
   "source": [
    "my_str = \"ThIs Is a mESsy sTrInG\"\n",
    "def my_function():\n",
    "  global my_str\n",
    "  my_str = my_str.lower()\n",
    "  print(my_str)\n",
    "  return my_str\n",
    "print(my_str)"
   ]
  },
  {
   "cell_type": "code",
   "execution_count": null,
   "id": "6501421c",
   "metadata": {},
   "outputs": [],
   "source": []
  }
 ],
 "metadata": {
  "kernelspec": {
   "display_name": "base",
   "language": "python",
   "name": "python3"
  },
  "language_info": {
   "codemirror_mode": {
    "name": "ipython",
    "version": 3
   },
   "file_extension": ".py",
   "mimetype": "text/x-python",
   "name": "python",
   "nbconvert_exporter": "python",
   "pygments_lexer": "ipython3",
   "version": "3.12.8"
  }
 },
 "nbformat": 4,
 "nbformat_minor": 5
}
