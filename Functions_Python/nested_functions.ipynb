{
 "cells": [
  {
   "cell_type": "code",
   "execution_count": 1,
   "id": "b5785932",
   "metadata": {},
   "outputs": [],
   "source": [
    "def foo():\n",
    "    x = [3, 6, 9]\n",
    "\n",
    "    def bar(y):\n",
    "        print(y+2)\n",
    "    \n",
    "    for value in x:\n",
    "        bar(value)\n",
    "    "
   ]
  },
  {
   "cell_type": "code",
   "execution_count": 2,
   "id": "e2a145b1",
   "metadata": {},
   "outputs": [
    {
     "data": {
      "text/plain": [
       "<function __main__.foo()>"
      ]
     },
     "execution_count": 2,
     "metadata": {},
     "output_type": "execute_result"
    }
   ],
   "source": [
    "foo"
   ]
  },
  {
   "cell_type": "code",
   "execution_count": 3,
   "id": "45de9945",
   "metadata": {},
   "outputs": [
    {
     "name": "stdout",
     "output_type": "stream",
     "text": [
      "5\n",
      "8\n",
      "11\n"
     ]
    }
   ],
   "source": [
    "foo()"
   ]
  },
  {
   "cell_type": "markdown",
   "id": "f4dcfeeb",
   "metadata": {},
   "source": [
    "### Closures in Python\n",
    "\n",
    "A closure in Python is a tuple of variables that are no longer in scope, but that a function needs in order to run. \n",
    "\n",
    "Let's explain this with an example.\n",
    "\n",
    "The function foo() defines a nested function bar() that prints the value of \"a\". \n",
    "\n",
    "foo() returns this new function, so when we say \"func = foo()\" we are assigning the bar() function to the variable \"func\".\n",
    "\n",
    "Now what happens when we call func()? \n",
    "\n",
    "As expected, it prints the value of variable \"a\", which is 5. \n",
    "\n",
    "But wait a minute, how does function \"func()\" know anything about variable \"a\"? \n",
    "\n",
    "\"a\" is defined in foo()'s scope, not bar()'s. \n",
    "\n",
    "You would think that \"a\" would not be observable outside of the scope of foo(). \n",
    "\n",
    "That's where closures come in. \n",
    "\n",
    "When foo() returned the new bar() function, Python helpfully attached any nonlocal variable that bar() was going to need to the function object. \n",
    "\n",
    "Those variables get stored in a tuple in the \"__closure__\" attribute of the function. \n",
    "\n",
    "The closure for \"func\" has one variable, and you can view the value of that variable by accessing the \"cell_contents\" of the item."
   ]
  },
  {
   "cell_type": "code",
   "execution_count": 6,
   "id": "0d829d62",
   "metadata": {},
   "outputs": [],
   "source": [
    "def foo():\n",
    "    a = 5\n",
    "    def bar():\n",
    "        print(a)\n",
    "    return bar"
   ]
  },
  {
   "cell_type": "code",
   "execution_count": 7,
   "id": "e0f58f2a",
   "metadata": {},
   "outputs": [],
   "source": [
    "funcy = foo()"
   ]
  },
  {
   "cell_type": "code",
   "execution_count": null,
   "id": "dd30bad4",
   "metadata": {},
   "outputs": [
    {
     "name": "stdout",
     "output_type": "stream",
     "text": [
      "(<cell at 0x105aec0d0: int object at 0x1026f6290>,)\n",
      "<class 'tuple'>\n",
      "<built-in method count of tuple object at 0x105b027a0>\n",
      "<built-in method index of tuple object at 0x105b027a0>\n",
      "<method-wrapper '__contains__' of tuple object at 0x105b027a0>\n",
      "<method-wrapper '__getitem__' of tuple object at 0x105b027a0>\n",
      "<built-in method __subclasshook__ of type object at 0x1026816c8>\n",
      "<cell at 0x105aec0d0: int object at 0x1026f6290>\n",
      "5\n"
     ]
    }
   ],
   "source": [
    "print('closure: ', funcy.__closure__)\n",
    "print('' , funcy.__closure__.__class__)\n",
    "print(funcy.__closure__.count)\n",
    "print(funcy.__closure__.index)\n",
    "print(funcy.__closure__.__contains__)\n",
    "print(funcy.__closure__.__getitem__)\n",
    "print(funcy.__closure__.__subclasshook__)\n",
    "print(funcy.__closure__[0])\n",
    "print(funcy.__closure__[0].cell_contents)"
   ]
  },
  {
   "cell_type": "code",
   "execution_count": 12,
   "id": "d552543f",
   "metadata": {},
   "outputs": [
    {
     "name": "stdout",
     "output_type": "stream",
     "text": [
      "closure contents:  5\n",
      "closure count:  1\n",
      "closure type:  <class 'tuple'>\n",
      "closure dir:  ['__add__', '__class__', '__class_getitem__', '__contains__', '__delattr__', '__dir__', '__doc__', '__eq__', '__format__', '__ge__', '__getattribute__', '__getitem__', '__getnewargs__', '__getstate__', '__gt__', '__hash__', '__init__', '__init_subclass__', '__iter__', '__le__', '__len__', '__lt__', '__mul__', '__ne__', '__new__', '__reduce__', '__reduce_ex__', '__repr__', '__rmul__', '__setattr__', '__sizeof__', '__str__', '__subclasshook__', 'count', 'index']\n",
      "closure dir:  ['__class__', '__delattr__', '__dir__', '__doc__', '__eq__', '__format__', '__ge__', '__getattribute__', '__getstate__', '__gt__', '__hash__', '__init__', '__init_subclass__', '__le__', '__lt__', '__ne__', '__new__', '__reduce__', '__reduce_ex__', '__repr__', '__setattr__', '__sizeof__', '__str__', '__subclasshook__', 'cell_contents']\n"
     ]
    }
   ],
   "source": [
    "print('closure contents: ', funcy.__closure__[0].cell_contents)\n",
    "print('closure count: ', len(funcy.__closure__))\n",
    "print('closure type: ', type(funcy.__closure__))\n",
    "print('closure dir: ', dir(funcy.__closure__))\n",
    "print('closure dir: ', dir(funcy.__closure__[0]))"
   ]
  },
  {
   "cell_type": "code",
   "execution_count": 17,
   "id": "982fd247",
   "metadata": {},
   "outputs": [],
   "source": [
    "x = 25\n",
    "def foo(value):\n",
    "    def bar():\n",
    "        print(value)\n",
    "    return bar"
   ]
  },
  {
   "cell_type": "code",
   "execution_count": 19,
   "id": "fa2872d3",
   "metadata": {},
   "outputs": [],
   "source": [
    "x = foo(x)"
   ]
  },
  {
   "cell_type": "code",
   "execution_count": 20,
   "id": "7fe1d82b",
   "metadata": {},
   "outputs": [
    {
     "data": {
      "text/plain": [
       "25"
      ]
     },
     "execution_count": 20,
     "metadata": {},
     "output_type": "execute_result"
    }
   ],
   "source": [
    "x.__closure__[0].cell_contents"
   ]
  },
  {
   "cell_type": "code",
   "execution_count": 29,
   "id": "433133b1",
   "metadata": {},
   "outputs": [
    {
     "name": "stdout",
     "output_type": "stream",
     "text": [
      "25\n"
     ]
    }
   ],
   "source": [
    "x()"
   ]
  },
  {
   "cell_type": "code",
   "execution_count": null,
   "id": "a3312dfa",
   "metadata": {},
   "outputs": [],
   "source": [
    "# x is now a function. \n",
    "# If I call foo(x), with x, a function, as the argument, I will get bar as retuen value\n",
    "# bar is just a function that prints the value that was given as input to foo. I have given a function as input. \n",
    "# I don't think functions can\n",
    "# the bar function within it will try to print the input, ie, the function object. But \n",
    "y = foo(x)"
   ]
  },
  {
   "cell_type": "code",
   "execution_count": 27,
   "id": "4e0c5daa",
   "metadata": {},
   "outputs": [
    {
     "name": "stdout",
     "output_type": "stream",
     "text": [
      "<function foo.<locals>.bar at 0x10a0bb9c0>\n"
     ]
    },
    {
     "data": {
      "text/plain": [
       "NoneType"
      ]
     },
     "execution_count": 27,
     "metadata": {},
     "output_type": "execute_result"
    }
   ],
   "source": [
    "type(y())"
   ]
  },
  {
   "cell_type": "code",
   "execution_count": 30,
   "id": "f889002c",
   "metadata": {},
   "outputs": [],
   "source": [
    "def parent(arg1, arg2):\n",
    "    \"\"\"\n",
    "    A parent function that takes two arguments and returns a child function.\n",
    "    \"\"\"\n",
    "    value = 22\n",
    "    my_dict = {'chocolate': 'yummy', 'vanilla': 'tasty'}\n",
    "\n",
    "    def child():\n",
    "        print(2*value)\n",
    "        print(my_dict['chocolate'])\n",
    "        print(arg1 + arg2)\n",
    "    return child"
   ]
  },
  {
   "cell_type": "code",
   "execution_count": 31,
   "id": "9498092e",
   "metadata": {},
   "outputs": [],
   "source": [
    "new_function = parent(5, 10)"
   ]
  },
  {
   "cell_type": "code",
   "execution_count": 32,
   "id": "0e7ca18c",
   "metadata": {},
   "outputs": [
    {
     "name": "stdout",
     "output_type": "stream",
     "text": [
      "44\n",
      "yummy\n",
      "15\n"
     ]
    }
   ],
   "source": [
    "new_function()"
   ]
  },
  {
   "cell_type": "code",
   "execution_count": null,
   "id": "3759b3f2",
   "metadata": {},
   "outputs": [],
   "source": [
    "# we don’t get and error if we try to access a variable not present in the current scope, Python will try to get the value of that variable from the outer scopes in orderly manner, i.e., first from nonlocal scope, then from global scope, and finally from built-in scope. So, when we call the parent function and get the child function as the return value, "
   ]
  },
  {
   "cell_type": "code",
   "execution_count": null,
   "id": "772aca91",
   "metadata": {},
   "outputs": [],
   "source": [
    "# we don’t get and error if we try to access a variable not present in the current scope, Python will try to get the value of that variable from the outer scopes in orderly manner, i.e., first from nonlocal scope, then from global scope, and finally from built-in scope. So, when we call the parent function and get the child function as the return value, the child function should ideally be able to access all the nonlocal variables, global variables, and built-in variables. But, it can only access the nonlocal variables present in the parent function, and not the global variables or built-in variables."
   ]
  },
  {
   "cell_type": "code",
   "execution_count": 39,
   "id": "d33a3869",
   "metadata": {},
   "outputs": [],
   "source": [
    "def return_a_func(arg1, arg2):\n",
    "  value = 22\n",
    "  my_dict = {'chocolate': 'yummy', 'vanilla': 'tasty'}\n",
    "  \"\"\"\n",
    "  A function that returns another function.\n",
    "  The returned function will print the arguments passed to the outer function.\n",
    "  \"\"\"\n",
    "  def new_func():\n",
    "    print('arg1 was {}'.format(arg1))\n",
    "    print('arg2 was {}'.format(arg2))\n",
    "  return new_func\n",
    "    \n",
    "my_func = return_a_func(2, 17)"
   ]
  },
  {
   "cell_type": "code",
   "execution_count": 40,
   "id": "b722c105",
   "metadata": {},
   "outputs": [
    {
     "data": {
      "text/plain": [
       "2"
      ]
     },
     "execution_count": 40,
     "metadata": {},
     "output_type": "execute_result"
    }
   ],
   "source": [
    "my_func.__closure__[0].cell_contents  # Accessing the closure variable"
   ]
  },
  {
   "cell_type": "code",
   "execution_count": 41,
   "id": "606b758f",
   "metadata": {},
   "outputs": [
    {
     "data": {
      "text/plain": [
       "17"
      ]
     },
     "execution_count": 41,
     "metadata": {},
     "output_type": "execute_result"
    }
   ],
   "source": [
    "my_func.__closure__[1].cell_contents  # Accessing the closure variable"
   ]
  },
  {
   "cell_type": "code",
   "execution_count": 42,
   "id": "f7239972",
   "metadata": {},
   "outputs": [
    {
     "name": "stdout",
     "output_type": "stream",
     "text": [
      "Closure variable 0: 2\n",
      "Closure variable 1: 17\n",
      "Closure variables: [2, 17]\n"
     ]
    }
   ],
   "source": [
    "for i in range(len(my_func.__closure__)):\n",
    "    print(f'Closure variable {i}: {my_func.__closure__[i].cell_contents}')\n",
    "print('Closure variables:', [cell.cell_contents for cell in my_func.__closure__])   "
   ]
  },
  {
   "cell_type": "markdown",
   "id": "66ccbb50",
   "metadata": {},
   "source": [
    "Strange thing happening here. I expected the returned child function to have 4 elements in its closure, but it only has 2. It seems that the closure only captures the variables that are used within the inner function. The `my_dict` variable is not used in the inner function, so it is not captured in the closure."
   ]
  },
  {
   "cell_type": "code",
   "execution_count": 43,
   "id": "360dece4",
   "metadata": {},
   "outputs": [],
   "source": [
    "def return_a_func(arg1, arg2):\n",
    "  value = 22\n",
    "  my_dict = {'chocolate': 'yummy', 'vanilla': 'tasty'}\n",
    "  \"\"\"\n",
    "  A function that returns another function.\n",
    "  The returned function will print the arguments passed to the outer function.\n",
    "  \"\"\"\n",
    "  def new_func():\n",
    "    print('arg1 was {}'.format(arg1))\n",
    "    print('arg2 was {}'.format(arg2))\n",
    "    print('value was {}'.format(value))\n",
    "    print('my_dict[vanilla] was {}'.format(my_dict['vanilla']))\n",
    "  return new_func\n",
    "    \n",
    "my_func = return_a_func(2, 17)"
   ]
  },
  {
   "cell_type": "code",
   "execution_count": 44,
   "id": "f292c5b4",
   "metadata": {},
   "outputs": [
    {
     "name": "stdout",
     "output_type": "stream",
     "text": [
      "Closure variable 0: 2\n",
      "Closure variable 1: 17\n",
      "Closure variable 2: {'chocolate': 'yummy', 'vanilla': 'tasty'}\n",
      "Closure variable 3: 22\n",
      "Closure variables: [2, 17, {'chocolate': 'yummy', 'vanilla': 'tasty'}, 22]\n"
     ]
    }
   ],
   "source": [
    "for i in range(len(my_func.__closure__)):\n",
    "    print(f'Closure variable {i}: {my_func.__closure__[i].cell_contents}')\n",
    "print('Closure variables:', [cell.cell_contents for cell in my_func.__closure__])   "
   ]
  },
  {
   "cell_type": "markdown",
   "id": "7c20c9a0",
   "metadata": {},
   "source": [
    "Here, I changed the `new_func` to print the `value` and `my_dict['vanilla']` as well. Now, when we call `my_func()`, it will print all the closure variables, including the nonlocal variable `value` and the dictionary `my_dict`"
   ]
  },
  {
   "cell_type": "code",
   "execution_count": 45,
   "id": "8b93769c",
   "metadata": {},
   "outputs": [
    {
     "name": "stdout",
     "output_type": "stream",
     "text": [
      "True\n",
      "True\n"
     ]
    }
   ],
   "source": [
    "def return_a_func(arg1, arg2):\n",
    "  def new_func():\n",
    "    print('arg1 was {}'.format(arg1))\n",
    "    print('arg2 was {}'.format(arg2))\n",
    "  return new_func\n",
    "    \n",
    "my_func = return_a_func(2, 17)\n",
    "\n",
    "print(my_func.__closure__ is not None)\n",
    "\n",
    "# Show that there are two variables in the closure\n",
    "print( len(my_func.__closure__) == 2)"
   ]
  },
  {
   "cell_type": "code",
   "execution_count": null,
   "id": "40f65ae6",
   "metadata": {},
   "outputs": [],
   "source": []
  }
 ],
 "metadata": {
  "kernelspec": {
   "display_name": "base",
   "language": "python",
   "name": "python3"
  },
  "language_info": {
   "codemirror_mode": {
    "name": "ipython",
    "version": 3
   },
   "file_extension": ".py",
   "mimetype": "text/x-python",
   "name": "python",
   "nbconvert_exporter": "python",
   "pygments_lexer": "ipython3",
   "version": "3.12.8"
  }
 },
 "nbformat": 4,
 "nbformat_minor": 5
}
