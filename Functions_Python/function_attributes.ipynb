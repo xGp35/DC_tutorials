{
 "cells": [
  {
   "cell_type": "code",
   "execution_count": 1,
   "id": "137e533f",
   "metadata": {},
   "outputs": [],
   "source": [
    "def is_even(n):\n",
    "    if n % 2 == 0:\n",
    "        is_even.true_count += 1\n",
    "        return True\n",
    "    return False"
   ]
  },
  {
   "cell_type": "code",
   "execution_count": null,
   "id": "39fe3787",
   "metadata": {},
   "outputs": [],
   "source": [
    "\n",
    "# Attach a custom attribute\n",
    "is_even.true_count = 0\n",
    "\n",
    "# Call the function a few times\n",
    "print(is_even(2))  # True\n",
    "print(is_even(3))  # False\n",
    "print(is_even(4))  # True\n",
    "print(is_even(6))  # True\n",
    "\n",
    "# Check the count\n",
    "print(\"Returned True\", is_even.true_count, \"times\")\n"
   ]
  }
 ],
 "metadata": {
  "kernelspec": {
   "display_name": "base",
   "language": "python",
   "name": "python3"
  },
  "language_info": {
   "codemirror_mode": {
    "name": "ipython",
    "version": 3
   },
   "file_extension": ".py",
   "mimetype": "text/x-python",
   "name": "python",
   "nbconvert_exporter": "python",
   "pygments_lexer": "ipython3",
   "version": "3.12.8"
  }
 },
 "nbformat": 4,
 "nbformat_minor": 5
}
