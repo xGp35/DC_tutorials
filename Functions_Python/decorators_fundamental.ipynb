{
 "cells": [
  {
   "cell_type": "code",
   "execution_count": 1,
   "id": "b1a4bbe7",
   "metadata": {},
   "outputs": [],
   "source": [
    "def memoize(func):\n",
    "    \"\"\"\n",
    "    Store the results of the decorated function for fast lookup\n",
    "    \"\"\"\n",
    "    # Store results in a dict that maps arguments to results\n",
    "    cache = {}\n",
    "\n",
    "    # Define the wrapper function to return.\n",
    "    def wrapper(*args, **kwargs):\n",
    "        # Define a hashable key for 'kwargs'.\n",
    "        kwargs_key = tuple(sorted(kwargs.items()))\n",
    "        # If these arguments haven't been seen before,\n",
    "        if (args, kwargs_key) not in cache:\n",
    "            # Call func() and store the result.\n",
    "            cache[(args, kwargs_key)] = func(*args, **kwargs)\n",
    "        return cache[(args, kwargs_key)]\n",
    "\n",
    "    return wrapper\n"
   ]
  },
  {
   "cell_type": "code",
   "execution_count": 2,
   "id": "d32711e6",
   "metadata": {},
   "outputs": [],
   "source": [
    "def parent_func():\n",
    "    def child_func(x =100):\n",
    "        print(x * 1.08)\n",
    "    return child_func"
   ]
  },
  {
   "cell_type": "code",
   "execution_count": 3,
   "id": "48f73113",
   "metadata": {},
   "outputs": [],
   "source": [
    "output = parent_func()"
   ]
  },
  {
   "cell_type": "code",
   "execution_count": 4,
   "id": "2219bcd4",
   "metadata": {},
   "outputs": [
    {
     "name": "stdout",
     "output_type": "stream",
     "text": [
      "108.0\n"
     ]
    }
   ],
   "source": [
    "output()"
   ]
  },
  {
   "cell_type": "code",
   "execution_count": 5,
   "id": "64d5ae2d",
   "metadata": {},
   "outputs": [
    {
     "name": "stdout",
     "output_type": "stream",
     "text": [
      "24.840000000000003\n"
     ]
    }
   ],
   "source": [
    "output(23)"
   ]
  },
  {
   "cell_type": "code",
   "execution_count": 7,
   "id": "3d6b4da3",
   "metadata": {},
   "outputs": [
    {
     "name": "stdout",
     "output_type": "stream",
     "text": [
      "108.0\n",
      "None\n"
     ]
    }
   ],
   "source": [
    "print(output())"
   ]
  },
  {
   "cell_type": "code",
   "execution_count": 27,
   "id": "77a118f4",
   "metadata": {},
   "outputs": [],
   "source": [
    "def counter(func):\n",
    "  \"\"\"This is a docstring for parent_func, counter\"\"\"\n",
    "  def wrapper(*args, **kwargs):\n",
    "    \"\"\"This is a docstring for child_func, wrapper\"\"\"\n",
    "    wrapper.count += 1\n",
    "    # Call the function being decorated and return the result\n",
    "    return func(*args, **kwargs)\n",
    "  # Set count to 0 to initialize call count for each new decorated function\n",
    "  wrapper.count = 0\n",
    "  # Return the new decorated function\n",
    "  return wrapper"
   ]
  },
  {
   "cell_type": "code",
   "execution_count": null,
   "id": "89d010dc",
   "metadata": {},
   "outputs": [],
   "source": [
    "\n",
    "# Decorate foo() with the counter() decorator\n",
    "@counter\n",
    "def foo():\n",
    "  print('calling foo()')\n",
    "  \n",
    "foo()\n",
    "foo()\n",
    "\n",
    "print('foo() was called {} times.'.format(foo.count))"
   ]
  },
  {
   "cell_type": "code",
   "execution_count": 28,
   "id": "14675e3a",
   "metadata": {},
   "outputs": [],
   "source": [
    "def foo():\n",
    "  \"\"\"This is a docstring for simple foo, outside\"\"\"\n",
    "  print('calling foo()')"
   ]
  },
  {
   "cell_type": "code",
   "execution_count": 29,
   "id": "3d38f3f9",
   "metadata": {},
   "outputs": [],
   "source": [
    "foo = counter(foo)"
   ]
  },
  {
   "cell_type": "code",
   "execution_count": 11,
   "id": "106d40ec",
   "metadata": {},
   "outputs": [
    {
     "data": {
      "text/plain": [
       "(<cell at 0x1102eb400: function object at 0x1102e65c0>,\n",
       " <cell at 0x1102e8280: function object at 0x1102e6340>)"
      ]
     },
     "execution_count": 11,
     "metadata": {},
     "output_type": "execute_result"
    }
   ],
   "source": [
    "foo.__closure__"
   ]
  },
  {
   "cell_type": "code",
   "execution_count": 30,
   "id": "9a4348ec",
   "metadata": {},
   "outputs": [],
   "source": [
    "doo = foo.__closure__[0].cell_contents"
   ]
  },
  {
   "cell_type": "code",
   "execution_count": 31,
   "id": "ccdbbbad",
   "metadata": {},
   "outputs": [
    {
     "name": "stdout",
     "output_type": "stream",
     "text": [
      "()\n",
      "0\n",
      "('This is a docstring for simple foo, outside', 'calling foo()', None)\n",
      "('print',)\n",
      "/var/folders/n0/9wldyr854817hc82h7w85z6c0000gn/T/ipykernel_9012/1333178602.py\n",
      "1\n"
     ]
    }
   ],
   "source": [
    "print(doo.__code__.co_varnames)        # Local variable names\n",
    "print(doo.__code__.co_argcount)        # Number of positional arguments\n",
    "print(doo.__code__.co_consts)        # Constants in the function\n",
    "print(doo.__code__.co_names)        # All names used (functions, vars, etc.)\n",
    "print(doo.__code__.co_filename)        # Source file name\n",
    "print(doo.__code__.co_firstlineno)     # Line number where the function starts\n"
   ]
  },
  {
   "cell_type": "code",
   "execution_count": 32,
   "id": "2ef9bf12",
   "metadata": {},
   "outputs": [
    {
     "data": {
      "text/plain": [
       "'This is a docstring for simple foo, outside'"
      ]
     },
     "execution_count": 32,
     "metadata": {},
     "output_type": "execute_result"
    }
   ],
   "source": [
    "doo.__doc__"
   ]
  },
  {
   "cell_type": "code",
   "execution_count": null,
   "id": "423e58d9",
   "metadata": {},
   "outputs": [],
   "source": [
    "#I could not understand memoize wraper. I am not understanding counter wrapper. Is there someting wrong with my brain? What the hell am I stuck. Let me try to understand this.\n",
    "\n",
    "def counter(func):\n",
    "    \"\"\"This is a docstring for parent_func, counter\"\"\"\n",
    "    def wrapper(*args, **kwargs):\n",
    "        \"\"\"This is a docstring for child_func, wrapper\"\"\"\n",
    "        wrapper.count += 1\n",
    "        # What is wrapper.count? How is a function able to have a count and how is it being defined within t\n",
    "        # Call the function being decorated and return the result\n",
    "        return func(*args, **kwargs)\n",
    "    \n",
    "    wrapper.count = 0\n",
    "    # The wrapper count \n",
    "    # Return the new decorated function\n",
    "    return wrapper"
   ]
  },
  {
   "cell_type": "code",
   "execution_count": null,
   "id": "af10a3c3",
   "metadata": {},
   "outputs": [],
   "source": [
    "\n"
   ]
  },
  {
   "cell_type": "code",
   "execution_count": null,
   "id": "ec95b21c",
   "metadata": {},
   "outputs": [],
   "source": []
  }
 ],
 "metadata": {
  "kernelspec": {
   "display_name": "base",
   "language": "python",
   "name": "python3"
  },
  "language_info": {
   "codemirror_mode": {
    "name": "ipython",
    "version": 3
   },
   "file_extension": ".py",
   "mimetype": "text/x-python",
   "name": "python",
   "nbconvert_exporter": "python",
   "pygments_lexer": "ipython3",
   "version": "3.12.8"
  }
 },
 "nbformat": 4,
 "nbformat_minor": 5
}
