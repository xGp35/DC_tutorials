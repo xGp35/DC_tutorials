{
 "cells": [
  {
   "cell_type": "code",
   "execution_count": 2,
   "id": "d32711e6",
   "metadata": {},
   "outputs": [],
   "source": [
    "def parent_func():\n",
    "    def child_func(x =100):\n",
    "        print(x * 1.08)\n",
    "    return child_func"
   ]
  },
  {
   "cell_type": "code",
   "execution_count": 3,
   "id": "48f73113",
   "metadata": {},
   "outputs": [],
   "source": [
    "output = parent_func()"
   ]
  },
  {
   "cell_type": "code",
   "execution_count": 4,
   "id": "2219bcd4",
   "metadata": {},
   "outputs": [
    {
     "name": "stdout",
     "output_type": "stream",
     "text": [
      "108.0\n"
     ]
    }
   ],
   "source": [
    "output()"
   ]
  },
  {
   "cell_type": "code",
   "execution_count": 5,
   "id": "64d5ae2d",
   "metadata": {},
   "outputs": [
    {
     "name": "stdout",
     "output_type": "stream",
     "text": [
      "24.840000000000003\n"
     ]
    }
   ],
   "source": [
    "output(23)"
   ]
  },
  {
   "cell_type": "code",
   "execution_count": 7,
   "id": "3d6b4da3",
   "metadata": {},
   "outputs": [
    {
     "name": "stdout",
     "output_type": "stream",
     "text": [
      "108.0\n",
      "None\n"
     ]
    }
   ],
   "source": [
    "print(output())"
   ]
  },
  {
   "cell_type": "code",
   "execution_count": 27,
   "id": "77a118f4",
   "metadata": {},
   "outputs": [],
   "source": [
    "def counter(func):\n",
    "  \"\"\"This is a docstring for parent_func, counter\"\"\"\n",
    "  def wrapper(*args, **kwargs):\n",
    "    \"\"\"This is a docstring for child_func, wrapper\"\"\"\n",
    "    wrapper.count += 1\n",
    "    # Call the function being decorated and return the result\n",
    "    return func(*args, **kwargs)\n",
    "  # Set count to 0 to initialize call count for each new decorated function\n",
    "  wrapper.count = 0\n",
    "  # Return the new decorated function\n",
    "  return wrapper"
   ]
  },
  {
   "cell_type": "code",
   "execution_count": null,
   "id": "89d010dc",
   "metadata": {},
   "outputs": [],
   "source": [
    "\n",
    "# Decorate foo() with the counter() decorator\n",
    "@counter\n",
    "def foo():\n",
    "  print('calling foo()')\n",
    "  \n",
    "foo()\n",
    "foo()\n",
    "\n",
    "print('foo() was called {} times.'.format(foo.count))"
   ]
  },
  {
   "cell_type": "code",
   "execution_count": 28,
   "id": "14675e3a",
   "metadata": {},
   "outputs": [],
   "source": [
    "def foo():\n",
    "  \"\"\"This is a docstring for simple foo, outside\"\"\"\n",
    "  print('calling foo()')"
   ]
  },
  {
   "cell_type": "code",
   "execution_count": 29,
   "id": "3d38f3f9",
   "metadata": {},
   "outputs": [],
   "source": [
    "foo = counter(foo)"
   ]
  },
  {
   "cell_type": "code",
   "execution_count": 11,
   "id": "106d40ec",
   "metadata": {},
   "outputs": [
    {
     "data": {
      "text/plain": [
       "(<cell at 0x1102eb400: function object at 0x1102e65c0>,\n",
       " <cell at 0x1102e8280: function object at 0x1102e6340>)"
      ]
     },
     "execution_count": 11,
     "metadata": {},
     "output_type": "execute_result"
    }
   ],
   "source": [
    "foo.__closure__"
   ]
  },
  {
   "cell_type": "code",
   "execution_count": 30,
   "id": "9a4348ec",
   "metadata": {},
   "outputs": [],
   "source": [
    "doo = foo.__closure__[0].cell_contents"
   ]
  },
  {
   "cell_type": "code",
   "execution_count": 31,
   "id": "ccdbbbad",
   "metadata": {},
   "outputs": [
    {
     "name": "stdout",
     "output_type": "stream",
     "text": [
      "()\n",
      "0\n",
      "('This is a docstring for simple foo, outside', 'calling foo()', None)\n",
      "('print',)\n",
      "/var/folders/n0/9wldyr854817hc82h7w85z6c0000gn/T/ipykernel_9012/1333178602.py\n",
      "1\n"
     ]
    }
   ],
   "source": [
    "print(doo.__code__.co_varnames)        # Local variable names\n",
    "print(doo.__code__.co_argcount)        # Number of positional arguments\n",
    "print(doo.__code__.co_consts)        # Constants in the function\n",
    "print(doo.__code__.co_names)        # All names used (functions, vars, etc.)\n",
    "print(doo.__code__.co_filename)        # Source file name\n",
    "print(doo.__code__.co_firstlineno)     # Line number where the function starts\n"
   ]
  },
  {
   "cell_type": "code",
   "execution_count": 32,
   "id": "2ef9bf12",
   "metadata": {},
   "outputs": [
    {
     "data": {
      "text/plain": [
       "'This is a docstring for simple foo, outside'"
      ]
     },
     "execution_count": 32,
     "metadata": {},
     "output_type": "execute_result"
    }
   ],
   "source": [
    "doo.__doc__"
   ]
  },
  {
   "cell_type": "code",
   "execution_count": null,
   "id": "423e58d9",
   "metadata": {},
   "outputs": [],
   "source": [
    "#I could not understand memoize wraper. I am not understanding counter wrapper. Is there someting wrong with my brain? What the hell am I stuck. Let me try to understand this.\n",
    "\n",
    "def counter(func):\n",
    "    \"\"\"This is a docstring for parent_func, counter\"\"\"\n",
    "    def wrapper(*args, **kwargs):\n",
    "        \"\"\"This is a docstring for child_func, wrapper\"\"\"\n",
    "        wrapper.count += 1\n",
    "        # What is wrapper.count? How is a function able to have a count and how is it being defined within t\n",
    "        # Call the function being decorated and return the result\n",
    "        return func(*args, **kwargs)\n",
    "    \n",
    "    wrapper.count = 0\n",
    "    # The wrapper count \n",
    "    # Return the new decorated function\n",
    "    return wrapper"
   ]
  },
  {
   "cell_type": "code",
   "execution_count": null,
   "id": "8226cb68",
   "metadata": {},
   "outputs": [],
   "source": []
  },
  {
   "cell_type": "code",
   "execution_count": null,
   "id": "af10a3c3",
   "metadata": {},
   "outputs": [],
   "source": [
    "def memoize(func):\n",
    "    \"\"\"\n",
    "    Store the results of the decorated function for fast lookup\n",
    "    \"\"\"\n",
    "    # Store results in a dict that maps arguments to results\n",
    "    cache = {}\n",
    "\n",
    "    # Define the wrapper function to return.\n",
    "    def wrapper(*args, **kwargs):\n",
    "        \n",
    "        kwargs_key = tuple(sorted(kwargs.items()))\n",
    "        print(\"Now printing kwargs_key: \", kwargs_key)\n",
    "\n",
    "        if (args, kwargs_key) not in cache:\n",
    "            print(f\"These values {(args, kwargs_key)} are not there in the cache\", )\n",
    "            cache[(args, kwargs_key)] = func(*args, **kwargs)\n",
    "        return cache[(args, kwargs_key)]\n",
    "\n",
    "    return wrapper\n"
   ]
  },
  {
   "cell_type": "code",
   "execution_count": 2,
   "id": "ec95b21c",
   "metadata": {},
   "outputs": [],
   "source": [
    "import time\n",
    "def dummy_function(a, b):\n",
    "    x = a + b\n",
    "    y = a*b\n",
    "    print(x*y)\n",
    "    time.sleep(5)\n",
    "    print(\"Aaj ki neend samapt hui\")\n",
    "    print(y/x)"
   ]
  },
  {
   "cell_type": "code",
   "execution_count": null,
   "id": "c23032f7",
   "metadata": {},
   "outputs": [],
   "source": [
    "tryfun1 = memoize(dummy_function)\n",
    "\n",
    "# The function called wrapper just returns the value of the function result call. For ex -\n",
    "\n",
    "# I got into a tailspin. Here the main function can be either a returning function or a non returning function.\n",
    "# By returning function I mean, it will return some value. The dummy_function I defined however will not ahve a return value. It just prints 3 things in quick succession. Let me first analyse how the memoize ecorator behaves in case i give it a function with no return value. then I will get to function with return value."
   ]
  },
  {
   "cell_type": "code",
   "execution_count": 5,
   "id": "3345c189",
   "metadata": {},
   "outputs": [
    {
     "data": {
      "text/plain": [
       "{}"
      ]
     },
     "execution_count": 5,
     "metadata": {},
     "output_type": "execute_result"
    }
   ],
   "source": [
    "tryfun1.__closure__[0].cell_contents"
   ]
  },
  {
   "cell_type": "code",
   "execution_count": 6,
   "id": "c2ca1643",
   "metadata": {},
   "outputs": [
    {
     "name": "stdout",
     "output_type": "stream",
     "text": [
      "30\n",
      "Aaj ki neend samapt hui\n",
      "1.2\n"
     ]
    }
   ],
   "source": [
    "dummy_function(2,3)"
   ]
  },
  {
   "cell_type": "code",
   "execution_count": 8,
   "id": "566d59e3",
   "metadata": {},
   "outputs": [],
   "source": [
    "# When I call dummy_function normally, it will always take 5 seconds to execute. (even if inputs was the same)"
   ]
  },
  {
   "cell_type": "code",
   "execution_count": 7,
   "id": "3b96d475",
   "metadata": {},
   "outputs": [
    {
     "name": "stdout",
     "output_type": "stream",
     "text": [
      "30\n",
      "Aaj ki neend samapt hui\n",
      "1.2\n"
     ]
    }
   ],
   "source": [
    "dummy_function(2,3)"
   ]
  },
  {
   "cell_type": "code",
   "execution_count": 10,
   "id": "36eabff9",
   "metadata": {},
   "outputs": [],
   "source": [
    "# When I do, tryfun1 = memoize(dummy_function), I am creating a new function called tryfun1, using the doubly nested memoize function.\n",
    "# This tryfun1 is a completely different function that got created when I called \n",
    "# tryfun1 = memoize(dummy_function)\n",
    "# Now what does memoize(dummy_function) do, it takes in dummy_function as argument. it knows that dummy function has 2 args called a and b.\n",
    "# Then a nonlocal variable called cache is created. This variable is an empty dictionary.\n",
    "# Then something happens ( a beautiful thing)\n",
    "# Once the beautiful thing is complete, memoize returns a thing.\n",
    "# The thing that memoize returns is the beautiful thing"
   ]
  },
  {
   "cell_type": "code",
   "execution_count": 11,
   "id": "ce193a46",
   "metadata": {},
   "outputs": [],
   "source": [
    "# The beautiful thing is the definition of a new function called wrapper.\n",
    "# This new function doesn't have much within it. \n",
    "# It is meant to replicate the behaviour of the function that was brought in as the input to the memoize function.\n",
    "# It will take the same arguments as the input function. This is done like \"def wrapper(*args, **kwargs)\"\n",
    "# This thing somehow knows that the arguments to be taken are from the input function."
   ]
  },
  {
   "cell_type": "code",
   "execution_count": null,
   "id": "b8b024b9",
   "metadata": {},
   "outputs": [],
   "source": [
    "# The cache is stored in the memory location of tryfunc1. tryfunc1 has taken on the form of the wrapper fucntion and hence has its closure. So whenver I call tryfun1, it can access the cache variable. It is stored in memory run time within scope of tryfunc1. It can't be accessed outside of tryfunc1."
   ]
  },
  {
   "cell_type": "markdown",
   "id": "72571bc3",
   "metadata": {},
   "source": [
    "What variables from the outer scope are used inside wrapper?\n",
    "\n",
    "    func: used to call the original function\n",
    "\n",
    "    cache: used to store results\n",
    "\n",
    "Therefore:\n",
    "\n",
    "    Both func and cache are free variables inside wrapper.\n",
    "\n",
    "    So both will be stored in wrapper.__closure__"
   ]
  },
  {
   "cell_type": "code",
   "execution_count": 12,
   "id": "87c89f16",
   "metadata": {},
   "outputs": [
    {
     "name": "stdout",
     "output_type": "stream",
     "text": [
      "Closure cell 0: {}\n",
      "Closure cell 1: <function slow_function at 0x108877420>\n"
     ]
    }
   ],
   "source": [
    "@memoize\n",
    "def slow_function(a, b):\n",
    "    return a + b\n",
    "\n",
    "for i, cell in enumerate(slow_function.__closure__):\n",
    "    print(f\"Closure cell {i}: {cell.cell_contents}\")\n"
   ]
  },
  {
   "cell_type": "code",
   "execution_count": 13,
   "id": "8f26f5b0",
   "metadata": {},
   "outputs": [
    {
     "name": "stdout",
     "output_type": "stream",
     "text": [
      "('cache', 'func')\n"
     ]
    }
   ],
   "source": [
    "print(slow_function.__code__.co_freevars)\n",
    "# Output: ('func', 'cache')\n"
   ]
  },
  {
   "cell_type": "markdown",
   "id": "52d4a6c7",
   "metadata": {},
   "source": [
    "Yes, __closure__[i].cell_contents can contain the original function, if it's referenced inside the inner function.\n",
    "\n",
    "In your case, it does — because func is used inside wrapper."
   ]
  },
  {
   "cell_type": "markdown",
   "id": "666f81d3",
   "metadata": {},
   "source": []
  }
 ],
 "metadata": {
  "kernelspec": {
   "display_name": "base",
   "language": "python",
   "name": "python3"
  },
  "language_info": {
   "codemirror_mode": {
    "name": "ipython",
    "version": 3
   },
   "file_extension": ".py",
   "mimetype": "text/x-python",
   "name": "python",
   "nbconvert_exporter": "python",
   "pygments_lexer": "ipython3",
   "version": "3.12.8"
  }
 },
 "nbformat": 4,
 "nbformat_minor": 5
}
