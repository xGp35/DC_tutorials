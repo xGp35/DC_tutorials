{
 "cells": [
  {
   "cell_type": "markdown",
   "metadata": {},
   "source": [
    "# When to use decorators\n",
    "\n",
    "- Add common behavior to multiple functions\n",
    "\n",
    "```python\n",
    "@timer\n",
    "def foo():\n",
    "    # do some computation\n",
    "\n",
    "@timer\n",
    "def bar():\n",
    "    # do some other computation\n",
    "\n",
    "@timer\n",
    "def baz():\n",
    "    # do something else\n",
    "```\n",
    "If we add timer code in each of these functions, it will violate the principle of don't repeat yourself.\n",
    "Adding a decorator is better choice"
   ]
  },
  {
   "cell_type": "code",
   "execution_count": 1,
   "metadata": {},
   "outputs": [],
   "source": [
    "def my_function():\n",
    "    print(\"Hello!\")"
   ]
  },
  {
   "cell_type": "code",
   "execution_count": 2,
   "metadata": {},
   "outputs": [],
   "source": [
    "x = my_function"
   ]
  },
  {
   "cell_type": "code",
   "execution_count": 3,
   "metadata": {},
   "outputs": [
    {
     "name": "stdout",
     "output_type": "stream",
     "text": [
      "Hello!\n"
     ]
    }
   ],
   "source": [
    "x()"
   ]
  },
  {
   "cell_type": "code",
   "execution_count": 6,
   "metadata": {},
   "outputs": [
    {
     "name": "stdout",
     "output_type": "stream",
     "text": [
      "108.0\n",
      "None\n"
     ]
    }
   ],
   "source": [
    "def parent_func():\n",
    "    def child_func(x=100):\n",
    "        print(x*1.08)\n",
    "    return child_func\n",
    "output = parent_func()\n",
    "print(output())"
   ]
  },
  {
   "cell_type": "code",
   "execution_count": null,
   "metadata": {},
   "outputs": [
    {
     "name": "stdout",
     "output_type": "stream",
     "text": [
      "108.0\n",
      "None\n"
     ]
    }
   ],
   "source": [
    "print(output())"
   ]
  },
  {
   "cell_type": "code",
   "execution_count": 5,
   "metadata": {},
   "outputs": [
    {
     "data": {
      "text/plain": [
       "'aaaaa'"
      ]
     },
     "execution_count": 5,
     "metadata": {},
     "output_type": "execute_result"
    }
   ],
   "source": [
    "st3 = \"a\" * 5\n",
    "st3"
   ]
  },
  {
   "cell_type": "markdown",
   "metadata": {},
   "source": [
    "## 🔥 3. Restrict Allowed Inputs (`set` or `if` Statements)"
   ]
  },
  {
   "cell_type": "code",
   "execution_count": 1,
   "metadata": {},
   "outputs": [
    {
     "name": "stdout",
     "output_type": "stream",
     "text": [
      "You picked red!\n",
      "Error: Invalid color! Choose from red, blue, or green.\n"
     ]
    }
   ],
   "source": [
    "def choose_color(color):\n",
    "    allowed_colors = {\"red\", \"blue\", \"green\"}\n",
    "    if color.lower() not in allowed_colors:\n",
    "        return \"Error: Invalid color! Choose from red, blue, or green.\"\n",
    "    return f\"You picked {color}!\"\n",
    "\n",
    "print(choose_color(\"red\"))   # ✅ \"You picked red!\"\n",
    "print(choose_color(\"purple\"))  # ❌ Error: Invalid color!\n"
   ]
  },
  {
   "cell_type": "markdown",
   "metadata": {},
   "source": [
    "## 🔥 5. Validate with Regular Expressions (`re`)\n",
    "For structured input (emails, phone numbers, dates), use regex.  \n",
    "Prevents junk input before it breaks your function."
   ]
  },
  {
   "cell_type": "code",
   "execution_count": 4,
   "metadata": {},
   "outputs": [
    {
     "name": "stdout",
     "output_type": "stream",
     "text": [
      "Valid email!\n",
      "Error: Invalid email format!\n",
      "Error: Invalid email format!\n"
     ]
    }
   ],
   "source": [
    "import re\n",
    "\n",
    "def validate_email(email):\n",
    "    pattern = r\"^[\\w\\.-]+@[\\w\\.-]+\\.\\w+$\"\n",
    "    if re.match(pattern, email):\n",
    "        return \"Valid email!\"\n",
    "    return \"Error: Invalid email format!\"\n",
    "\n",
    "print(validate_email(\"test@example.com\"))  # ✅ Valid email!\n",
    "print(validate_email(\"test@com\"))          # ❌ Error: Invalid email!\n",
    "print(validate_email(\"hello@@example\"))    # ❌ Error: Invalid email!"
   ]
  },
  {
   "cell_type": "markdown",
   "metadata": {},
   "source": [
    "## 🔥 7. Use `defaultdict` for Missing Keys\n",
    "Automatically fills in missing keys so the function never crashes."
   ]
  },
  {
   "cell_type": "code",
   "execution_count": 3,
   "metadata": {},
   "outputs": [
    {
     "name": "stdout",
     "output_type": "stream",
     "text": [
      "Item: Pizza, Quantity: 2\n",
      "Item: Burger, Quantity: Not specified\n"
     ]
    }
   ],
   "source": [
    "from collections import defaultdict\n",
    "\n",
    "def process_order(order):\n",
    "    order = defaultdict(lambda: \"Not specified\", order)\n",
    "    return f\"Item: {order['item']}, Quantity: {order['quantity']}\"\n",
    "\n",
    "print(process_order({\"item\": \"Pizza\", \"quantity\": 2}))  # ✅ Works\n",
    "print(process_order({\"item\": \"Burger\"}))  # ✅ Quantity defaults to \"Not specified\"\n"
   ]
  },
  {
   "cell_type": "code",
   "execution_count": null,
   "metadata": {},
   "outputs": [],
   "source": []
  }
 ],
 "metadata": {
  "kernelspec": {
   "display_name": "base",
   "language": "python",
   "name": "python3"
  },
  "language_info": {
   "codemirror_mode": {
    "name": "ipython",
    "version": 3
   },
   "file_extension": ".py",
   "mimetype": "text/x-python",
   "name": "python",
   "nbconvert_exporter": "python",
   "pygments_lexer": "ipython3",
   "version": "3.12.8"
  }
 },
 "nbformat": 4,
 "nbformat_minor": 2
}
