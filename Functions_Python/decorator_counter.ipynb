{
 "cells": [
  {
   "cell_type": "code",
   "execution_count": 1,
   "id": "22681434",
   "metadata": {},
   "outputs": [],
   "source": [
    "def counter(func):\n",
    "  \"\"\"This is a docstring for parent_func, counter\"\"\"\n",
    "  def wrapper(*args, **kwargs):\n",
    "    \"\"\"This is a docstring for child_func, wrapper\"\"\"\n",
    "    wrapper.count += 1\n",
    "    # Call the function being decorated and return the result\n",
    "    return func(*args, **kwargs)\n",
    "  # Set count to 0 to initialize call count for each new decorated function\n",
    "  wrapper.count = 0\n",
    "  # Return the new decorated function\n",
    "  return wrapper"
   ]
  },
  {
   "cell_type": "code",
   "execution_count": null,
   "id": "734dea8b",
   "metadata": {},
   "outputs": [
    {
     "name": "stdout",
     "output_type": "stream",
     "text": [
      "calling foo()\n",
      "calling foo()\n",
      "foo() was called 2 times.\n"
     ]
    }
   ],
   "source": [
    "\n",
    "# Decorate foo() with the counter() decorator\n",
    "@counter\n",
    "def foo():\n",
    "  print('calling foo()')\n",
    "  \n",
    "foo()\n",
    "foo()\n",
    "\n",
    "print('foo() was called {} times.'.format(foo.count))"
   ]
  },
  {
   "cell_type": "code",
   "execution_count": 3,
   "id": "13c71879",
   "metadata": {},
   "outputs": [],
   "source": [
    "def foo():\n",
    "  \"\"\"This is a docstring for simple foo, outside\"\"\"\n",
    "  print('calling foo()')"
   ]
  },
  {
   "cell_type": "code",
   "execution_count": 5,
   "id": "42ad8b73",
   "metadata": {},
   "outputs": [],
   "source": [
    "def counter2(func):\n",
    "  def wrapper(*args, **kwargs):\n",
    "    wrapper.whatnot += 1\n",
    "    return func(*args, **kwargs)\n",
    "  wrapper.whatnot = 0\n",
    "  return wrapper"
   ]
  },
  {
   "cell_type": "code",
   "execution_count": 6,
   "id": "4778d7cc",
   "metadata": {},
   "outputs": [
    {
     "name": "stdout",
     "output_type": "stream",
     "text": [
      "calling foo()\n",
      "calling foo()\n",
      "foo() was called 2 times.\n"
     ]
    }
   ],
   "source": [
    "# Decorate foo() with the counter() decorator\n",
    "@counter2\n",
    "def foo():\n",
    "  print('calling foo()')\n",
    "  \n",
    "foo()\n",
    "foo()\n",
    "\n",
    "print('foo() was called {} times.'.format(foo.whatnot))"
   ]
  },
  {
   "cell_type": "code",
   "execution_count": null,
   "id": "c388586d",
   "metadata": {},
   "outputs": [],
   "source": []
  }
 ],
 "metadata": {
  "kernelspec": {
   "display_name": "base",
   "language": "python",
   "name": "python3"
  },
  "language_info": {
   "codemirror_mode": {
    "name": "ipython",
    "version": 3
   },
   "file_extension": ".py",
   "mimetype": "text/x-python",
   "name": "python",
   "nbconvert_exporter": "python",
   "pygments_lexer": "ipython3",
   "version": "3.12.8"
  }
 },
 "nbformat": 4,
 "nbformat_minor": 5
}
