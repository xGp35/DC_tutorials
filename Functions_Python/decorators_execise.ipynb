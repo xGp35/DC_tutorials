{
 "cells": [
  {
   "cell_type": "markdown",
   "metadata": {},
   "source": [
    "# When to use decorators\n",
    "\n",
    "- Add common behavior to multiple functions\n",
    "\n",
    "```python\n",
    "@timer\n",
    "def foo():\n",
    "    # do some computation\n",
    "\n",
    "@timer\n",
    "def bar():\n",
    "    # do some other computation\n",
    "\n",
    "@timer\n",
    "def baz():\n",
    "    # do something else\n",
    "```\n",
    "If we add timer code in each of these functions, it will violate the principle of don't repeat yourself.\n",
    "Adding a decorator is better choice"
   ]
  },
  {
   "cell_type": "code",
   "execution_count": null,
   "metadata": {},
   "outputs": [],
   "source": []
  }
 ],
 "metadata": {
  "language_info": {
   "name": "python"
  }
 },
 "nbformat": 4,
 "nbformat_minor": 2
}
