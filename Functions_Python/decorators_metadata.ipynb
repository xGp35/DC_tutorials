{
 "cells": [
  {
   "cell_type": "code",
   "execution_count": 1,
   "id": "c6abe908",
   "metadata": {},
   "outputs": [],
   "source": [
    "def add_hello(func):\n",
    "  def wrapper(*args, **kwargs):\n",
    "    print('Hello')\n",
    "    return func(*args, **kwargs)\n",
    "  return wrapper\n",
    "\n",
    "# Decorate print_sum() with the add_hello() decorator\n",
    "@add_hello\n",
    "def print_sum(a, b):\n",
    "  \"\"\"Adds two numbers and prints the sum\"\"\"\n",
    "  print(a + b)"
   ]
  },
  {
   "cell_type": "code",
   "execution_count": 2,
   "id": "217feb5f",
   "metadata": {},
   "outputs": [
    {
     "name": "stdout",
     "output_type": "stream",
     "text": [
      "Hello\n",
      "30\n",
      "None\n"
     ]
    }
   ],
   "source": [
    "print_sum(10, 20)\n",
    "# Define the docstring\n",
    "print_sum_docstring = print_sum.__doc__\n",
    "print(print_sum_docstring)"
   ]
  },
  {
   "cell_type": "code",
   "execution_count": 3,
   "id": "48f735b3",
   "metadata": {},
   "outputs": [
    {
     "name": "stdout",
     "output_type": "stream",
     "text": [
      "Hello\n",
      "30\n",
      "Adds two numbers and prints the sum\n"
     ]
    }
   ],
   "source": [
    "from functools import wraps\n",
    "\n",
    "def add_hello(func):\n",
    "  # Decorate wrapper() so that it keeps func()'s metadata\n",
    "  @wraps(func)\n",
    "  def wrapper(*args, **kwargs):\n",
    "    \"\"\"Print 'hello' and then call the decorated function.\"\"\"\n",
    "    print('Hello')\n",
    "    return func(*args, **kwargs)\n",
    "  return wrapper\n",
    "  \n",
    "@add_hello\n",
    "def print_sum(a, b):\n",
    "  \"\"\"Adds two numbers and prints the sum\"\"\"\n",
    "  print(a + b)\n",
    "  \n",
    "print_sum(10, 20)\n",
    "print_sum_docstring = print_sum.__doc__\n",
    "print(print_sum_docstring)"
   ]
  },
  {
   "cell_type": "code",
   "execution_count": 4,
   "id": "da291179",
   "metadata": {},
   "outputs": [],
   "source": [
    "def memoize(func):\n",
    "    \"\"\"\n",
    "    Store the results of the decorated function for fast lookup\n",
    "    \"\"\"\n",
    "    # Store results in a dict that maps arguments to results\n",
    "    cache = {}\n",
    "\n",
    "    # Define the wrapper function to return.\n",
    "    def wrapper(*args, **kwargs):\n",
    "        \n",
    "        kwargs_key = tuple(sorted(kwargs.items()))\n",
    "        print(\"Now printing kwargs_key: \", kwargs_key)\n",
    "\n",
    "        if (args, kwargs_key) not in cache:\n",
    "            print(f\"These values {(args, kwargs_key)} are not there in the cache\", )\n",
    "            cache[(args, kwargs_key)] = func(*args, **kwargs)\n",
    "        return cache[(args, kwargs_key)]\n",
    "\n",
    "    return wrapper\n"
   ]
  },
  {
   "cell_type": "code",
   "execution_count": 5,
   "id": "99d77a76",
   "metadata": {},
   "outputs": [
    {
     "name": "stdout",
     "output_type": "stream",
     "text": [
      "Closure cell 0: {}\n",
      "Closure cell 1: <function slow_function at 0x1122ec720>\n"
     ]
    }
   ],
   "source": [
    "@memoize\n",
    "def slow_function(a, b):\n",
    "    return a + b\n",
    "\n",
    "for i, cell in enumerate(slow_function.__closure__):\n",
    "    print(f\"Closure cell {i}: {cell.cell_contents}\")\n"
   ]
  },
  {
   "cell_type": "markdown",
   "id": "bf242f84",
   "metadata": {},
   "source": [
    "What variables from the outer scope are used inside wrapper?\n",
    "\n",
    "    func: used to call the original function\n",
    "\n",
    "    cache: used to store results\n",
    "\n",
    "Therefore:\n",
    "\n",
    "    Both func and cache are free variables inside wrapper.\n",
    "\n",
    "    So both will be stored in wrapper.__closure__"
   ]
  },
  {
   "cell_type": "code",
   "execution_count": 6,
   "id": "11e153c7",
   "metadata": {},
   "outputs": [
    {
     "name": "stdout",
     "output_type": "stream",
     "text": [
      "('cache', 'func')\n"
     ]
    }
   ],
   "source": [
    "print(slow_function.__code__.co_freevars)\n",
    "# Output: ('func', 'cache')"
   ]
  },
  {
   "cell_type": "markdown",
   "id": "bd3106a1",
   "metadata": {},
   "source": [
    "Yes, __closure__[i].cell_contents can contain the original function, if it's referenced inside the inner function.\n",
    "\n",
    "In your case, it does — because func is used inside wrapper.\n"
   ]
  },
  {
   "cell_type": "markdown",
   "id": "514dcbcf",
   "metadata": {},
   "source": [
    "⚠️ Final Caveat\n",
    "\n",
    "    Not all decorators behave the same way.\n",
    "\n",
    "If the decorator doesn't use the original function directly in the inner wrapper (e.g., uses functools.partial, or returns another wrapper-of-a-wrapper), the closure may or may not contain the original function.\n",
    "\n",
    "That's why functools.wraps is safer — it explicitly assigns ```__wrapped__```, while closures depend on how things are written.\n"
   ]
  },
  {
   "cell_type": "markdown",
   "id": "2165bd32",
   "metadata": {},
   "source": []
  }
 ],
 "metadata": {
  "kernelspec": {
   "display_name": "base",
   "language": "python",
   "name": "python3"
  },
  "language_info": {
   "codemirror_mode": {
    "name": "ipython",
    "version": 3
   },
   "file_extension": ".py",
   "mimetype": "text/x-python",
   "name": "python",
   "nbconvert_exporter": "python",
   "pygments_lexer": "ipython3",
   "version": "3.12.8"
  }
 },
 "nbformat": 4,
 "nbformat_minor": 5
}
