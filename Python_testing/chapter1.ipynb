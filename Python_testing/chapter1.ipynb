{
 "cells": [
  {
   "cell_type": "code",
   "execution_count": 2,
   "metadata": {},
   "outputs": [],
   "source": [
    "import pytest"
   ]
  },
  {
   "cell_type": "code",
   "execution_count": 3,
   "metadata": {},
   "outputs": [],
   "source": [
    "def squared(number):\n",
    "     return number*number"
   ]
  },
  {
   "cell_type": "code",
   "execution_count": null,
   "metadata": {},
   "outputs": [],
   "source": [
    "def test_squared():\n",
    "    assert squared(-2) == squared(2)"
   ]
  },
  {
   "cell_type": "code",
   "execution_count": 5,
   "metadata": {},
   "outputs": [
    {
     "data": {
      "text/plain": [
       "<function __main__.test_squared()>"
      ]
     },
     "execution_count": 5,
     "metadata": {},
     "output_type": "execute_result"
    }
   ],
   "source": [
    "test_squared"
   ]
  },
  {
   "cell_type": "markdown",
   "metadata": {},
   "source": [
    "#### Context Manager\n",
    "- It is a python object that is used by declaring a with statement </br>\n",
    "- We use a context managers to setup and teardown temporary context"
   ]
  },
  {
   "cell_type": "code",
   "execution_count": 6,
   "metadata": {},
   "outputs": [],
   "source": [
    "with open(\"hello_world.txt\", 'w') as hello_file:\n",
    "    hello_file.write(\"Hello World! \\n\")"
   ]
  },
  {
   "cell_type": "markdown",
   "metadata": {},
   "source": [
    "We can use `pytest.raises` context manager to ensure that Exception is raised when it is expected to"
   ]
  },
  {
   "cell_type": "code",
   "execution_count": null,
   "metadata": {},
   "outputs": [],
   "source": [
    "def division(a,b):\n",
    "    return a / b"
   ]
  },
  {
   "cell_type": "code",
   "execution_count": 11,
   "metadata": {},
   "outputs": [],
   "source": [
    "def test_raises():\n",
    "    with pytest.raises(ZeroDivisionError):\n",
    "        division(a = 25, b =0)"
   ]
  },
  {
   "cell_type": "code",
   "execution_count": 16,
   "metadata": {},
   "outputs": [],
   "source": [
    "test_raises()"
   ]
  },
  {
   "cell_type": "code",
   "execution_count": 17,
   "metadata": {},
   "outputs": [],
   "source": [
    "def multiple_of_two(num):\n",
    "    if num == 0:\n",
    "        raise(ValueError)\n",
    "    return num % 2 == 0"
   ]
  },
  {
   "cell_type": "code",
   "execution_count": 19,
   "metadata": {},
   "outputs": [],
   "source": [
    "def test_numbers():\n",
    "    assert multiple_of_two(2) is True\n",
    "    # Write the \"False\" test below\n",
    "    assert multiple_of_two(3) is False"
   ]
  },
  {
   "cell_type": "code",
   "execution_count": 20,
   "metadata": {},
   "outputs": [],
   "source": [
    "def test_zero():    \n",
    "  \t# Add a context for an exception test here\n",
    "    with pytest.raises(ValueError):\n",
    "      \t# Check zero input below\n",
    "        multiple_of_two(num=0)"
   ]
  },
  {
   "cell_type": "code",
   "execution_count": 21,
   "metadata": {},
   "outputs": [],
   "source": [
    "# Add the pytest marker decorator here\n",
    "@pytest.mark.xfail\n",
    "def test_fails():\n",
    "    # Write any assert test that will fail\n",
    "    assert multiple_of_two(num=3) is True"
   ]
  },
  {
   "cell_type": "code",
   "execution_count": 23,
   "metadata": {},
   "outputs": [],
   "source": [
    "from datetime import datetime"
   ]
  },
  {
   "cell_type": "code",
   "execution_count": 25,
   "metadata": {},
   "outputs": [],
   "source": [
    "day_of_week = datetime.now().isoweekday()"
   ]
  },
  {
   "cell_type": "code",
   "execution_count": null,
   "metadata": {},
   "outputs": [],
   "source": [
    "def get_unique_values(lst):\n",
    "    return list(set(lst))\n",
    "\n",
    "condition_string = 'day_of_week == 6'\n",
    "# Add the conditional skip marker and the string here\n",
    "@pytest.mark.skipif(condition_string)\n",
    "def test_function():\n",
    "\t# Complete the assertion tests here\n",
    "    assert get_unique_values([1,2,3]) == [1,2,3]\n",
    "    assert get_unique_values([1,2,3,1]) == [1,2,3]"
   ]
  },
  {
   "cell_type": "code",
   "execution_count": 26,
   "metadata": {},
   "outputs": [],
   "source": [
    "import pandas as pd"
   ]
  },
  {
   "cell_type": "code",
   "execution_count": null,
   "metadata": {},
   "outputs": [],
   "source": [
    "@pytest.fixture\n",
    "def data():\n",
    "    df = pd.read_csv('/usr/local/share/games.csv')\n",
    "    # Return df with the special keyword\n",
    "    yield df\n",
    "    # Remove all rows in df\n",
    "    df.drop(df.index, inplace=True)\n",
    "    # Delete the df variable\n",
    "    del df\n",
    "\n",
    "def test_type(data):\n",
    "    assert type(data) == pd.DataFrame\n",
    "\n",
    "def test_shape(data):\n",
    "    assert data.shape[0] == 1512"
   ]
  }
 ],
 "metadata": {
  "kernelspec": {
   "display_name": "base",
   "language": "python",
   "name": "python3"
  },
  "language_info": {
   "codemirror_mode": {
    "name": "ipython",
    "version": 3
   },
   "file_extension": ".py",
   "mimetype": "text/x-python",
   "name": "python",
   "nbconvert_exporter": "python",
   "pygments_lexer": "ipython3",
   "version": "3.12.2"
  }
 },
 "nbformat": 4,
 "nbformat_minor": 2
}
